{
 "cells": [
  {
   "cell_type": "markdown",
   "id": "0ed52e57",
   "metadata": {},
   "source": [
    "## Задание из задачника № 11.9.3 (а)\n",
    "#### Выполнил студент группы Б03-903\n",
    "#### Деревянкин Иван"
   ]
  },
  {
   "cell_type": "markdown",
   "id": "be91950c",
   "metadata": {},
   "source": [
    "<img src=\"11_9_3_а.png\">\n",
    "\n",
    "-----------"
   ]
  },
  {
   "cell_type": "markdown",
   "id": "b8f1061e",
   "metadata": {},
   "source": [
    "Подключаем библиотеки"
   ]
  },
  {
   "cell_type": "code",
   "execution_count": 21,
   "id": "c5a40e07",
   "metadata": {},
   "outputs": [],
   "source": [
    "from math import sqrt\n",
    "import numpy as np\n",
    "import matplotlib.pyplot as plt"
   ]
  },
  {
   "cell_type": "markdown",
   "id": "9a150c6f",
   "metadata": {},
   "source": [
    "Вводим список постоянных значений, который указан в учебничке"
   ]
  },
  {
   "cell_type": "code",
   "execution_count": 22,
   "id": "2ffd1114",
   "metadata": {},
   "outputs": [],
   "source": [
    "x0 = 0\n",
    "xT = 1\n",
    "y0 = 0\n",
    "yT = 2"
   ]
  },
  {
   "cell_type": "markdown",
   "id": "057d03e7",
   "metadata": {},
   "source": [
    "Из этих значений вычисляем шаг сетки h. N и eps подбираем методом проб и ошибок"
   ]
  },
  {
   "cell_type": "code",
   "execution_count": 23,
   "id": "8cb22af3",
   "metadata": {},
   "outputs": [],
   "source": [
    "N = 10000\n",
    "h = (xT - x0) / N\n",
    "eps = 1e-4\n",
    "# v = y'"
   ]
  },
  {
   "cell_type": "markdown",
   "id": "36c16b0e",
   "metadata": {},
   "source": [
    "Определим удобные функцочки, чтобы не писать эту поебень по сто раз"
   ]
  },
  {
   "cell_type": "code",
   "execution_count": 24,
   "id": "bd7ec678",
   "metadata": {},
   "outputs": [],
   "source": [
    "def f(x, y):\n",
    "    return sqrt(y) * x"
   ]
  },
  {
   "cell_type": "markdown",
   "id": "deb09b6f",
   "metadata": {},
   "source": [
    "Функция значений f при заданых параметрах:"
   ]
  },
  {
   "cell_type": "code",
   "execution_count": 43,
   "id": "602c9fb8",
   "metadata": {},
   "outputs": [],
   "source": [
    "def sm(alpha, points: bool = False):\n",
    "    xn = x0\n",
    "    yn = y0\n",
    "    vn = alpha\n",
    "    yn_array = [yn]\n",
    "\n",
    "    def iterate(xn, yn, vn):\n",
    "        ynext = yn + h * vn\n",
    "        k1 = f(xn, yn)\n",
    "        k2 = f(xn + h, yn + h * k1)\n",
    "        vnext = vn + (h / 2) * (k1 + k2)\n",
    "        return ynext, vnext\n",
    "\n",
    "    while xn < xT:\n",
    "        yn, vn = iterate(xn, yn, vn)\n",
    "        xn += h\n",
    "        if points:\n",
    "            yn_array.append(yn)\n",
    "    if points:\n",
    "        return yn_array\n",
    "    return yn"
   ]
  },
  {
   "cell_type": "code",
   "execution_count": 44,
   "id": "b707d03f",
   "metadata": {},
   "outputs": [],
   "source": [
    "alpha_0 = 2\n",
    "alpha_1 = 1\n",
    "alpha = (alpha_0 + alpha_1)/2\n",
    "\n",
    "\n",
    "while abs(sm(alpha) - yT) > eps:\n",
    "    if sm(alpha) - yT > 0:\n",
    "        alpha_0 = alpha\n",
    "    else:\n",
    "        alpha_1 = alpha\n",
    "    alpha = (alpha_0 + alpha_1) / 2"
   ]
  },
  {
   "cell_type": "code",
   "execution_count": 45,
   "id": "2b01c9b5",
   "metadata": {},
   "outputs": [
    {
     "data": {
      "image/png": "[encoded data removed]",
      "text/plain": [
       "<Figure size 432x288 with 1 Axes>"
      ]
     },
     "metadata": {
      "needs_background": "light"
     },
     "output_type": "display_data"
    }
   ],
   "source": [
    "yn_points = sm(alpha, points=True)\n",
    "plt.plot(np.linspace(0, 1, len(yn_points)), yn_points)\n",
    "plt.show()"
   ]
  },
  {
   "cell_type": "code",
   "execution_count": null,
   "id": "5037ea94",
   "metadata": {},
   "outputs": [],
   "source": []
  }
 ],
 "metadata": {
  "kernelspec": {
   "display_name": "Python 3",
   "language": "python",
   "name": "python3"
  },
  "language_info": {
   "codemirror_mode": {
    "name": "ipython",
    "version": 3
   },
   "file_extension": ".py",
   "mimetype": "text/x-python",
   "name": "python",
   "nbconvert_exporter": "python",
   "pygments_lexer": "ipython3",
   "version": "3.8.8"
  }
 },
 "nbformat": 4,
 "nbformat_minor": 5
}
