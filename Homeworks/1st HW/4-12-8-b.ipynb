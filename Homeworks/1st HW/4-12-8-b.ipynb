{
 "cells": [
  {
   "cell_type": "markdown",
   "id": "57bbfbc3",
   "metadata": {},
   "source": [
    "## Задание из задачника № 4.12.8 (б)\n",
    "#### Выполнил студент группы Б03-903\n",
    "#### Деревянкин Иван"
   ]
  },
  {
   "cell_type": "markdown",
   "id": "e5c88b7f",
   "metadata": {},
   "source": [
    "<img src=\"./4-12-8.png\">\n",
    "\n",
    "-----------"
   ]
  },
  {
   "cell_type": "markdown",
   "id": "98262b96",
   "metadata": {},
   "source": [
    "Найдем максимальное значение функции\n",
    "$y'$ = $e^{-x^2}$ $-$ 2$\\cdot$$x^2$$\\cdot$$e^{-x^2}$ обращается в ноль при:\n",
    "<center>$х$ = $\\frac{1}{\\sqrt{2}}$</center>\n",
    "<center>$y_{max}$ = $\\frac{e^{\\frac{-1}{2}}}{\\sqrt{2}}$</center>\n",
    "найдем два значения аргумента, при которых функция принимает значения, равные\n",
    "половине от максимального\n",
    "$x$$\\cdot$$e^{-x^2}$ $=$ $\\frac{e^{\\frac{-1}{2}}}{2 \\cdot \\sqrt{2}}$\n",
    "\n",
    "Построив график также учтем, что $х_1$ $\\in$ $(0,2;0,4)$, а $х_2$ $\\in$ $(1,2; 1,4)$"
   ]
  },
  {
   "cell_type": "markdown",
   "id": "23531d61",
   "metadata": {},
   "source": [
    "###### 1 cпособ\n",
    "<h3><center>$x_{k+1}$ $=$ $\\frac{\\sqrt{2} \\cdot e^{\\frac{-1}{2} + x_k^2}}{4}$</center></h3>\n",
    "Тогда\n",
    "<h3><center>$f(x)$ $=$ $\\frac{\\sqrt{2} \\cdot e^{\\frac{-1}{2} + x_k^2}}{4}$</center></h3>\n",
    "<h4><center>$|f'(x)| < 1$</center></h4>\n",
    "<h3><center>$f'(x)$ $=$ $\\frac{\\sqrt{2} \\cdot x \\cdot e^{\\frac{-1}{2} + x_k^2}}{2}~~~~~~~~~~~~~(*)$</center></h3>\n",
    "Данное условие выполняется на промежутке (0,2;0,4)"
   ]
  },
  {
   "cell_type": "markdown",
   "id": "8632da70",
   "metadata": {},
   "source": [
    "###### 2 cпособ\n",
    "<h4><center>$x_{k + 1}$ = $\\sqrt{\\ln{\\frac{4*x_k}{\\sqrt{2} \\cdot e^{\\frac{-1}{2}}}}}$</center></h4>\n",
    "Этот итерационный процесс пригоден для поиска правого корня"
   ]
  },
  {
   "cell_type": "markdown",
   "id": "095c0500",
   "metadata": {},
   "source": [
    "Каждый из корней должен быть найден с точностью $\\frac{\\epsilon}{2}$"
   ]
  },
  {
   "cell_type": "code",
   "execution_count": 3,
   "id": "fa86b6ba",
   "metadata": {},
   "outputs": [
    {
     "name": "stdout",
     "output_type": "stream",
     "text": [
      "Решения уравнения\n",
      "0.226\n",
      "1.359\n",
      "Ширина на полувысоте 1.133\n"
     ]
    }
   ],
   "source": [
    "import numpy as np\n",
    "\n",
    "x= 1 / 2**(1/2)\n",
    "a = 1\n",
    "i = 0\n",
    "while abs(a) > 5*10**(-4):\n",
    "    i-=-1\n",
    "    b = (2**(1/2) * np.exp(-1/2 + (x)**2))/4\n",
    "    a = b - x\n",
    "    x = b\n",
    "print(\"Решения уравнения\")\n",
    "print(round(x, 3))\n",
    "\n",
    "x_1= 1 / 2**(1/2)\n",
    "a = 1\n",
    "i = 0\n",
    "while abs(a) > 5*10**(-4):\n",
    "    i-=-1\n",
    "    b = np.sqrt(np.log((4*x_1)/(2**(1/2)*np.exp(-1/2))))\n",
    "    a = b - x_1\n",
    "    x_1 = b\n",
    "print(round (x_1, 3))\n",
    "print(\"Ширина на полувысоте\", round (x_1 - x, 3))"
   ]
  }
 ],
 "metadata": {
  "kernelspec": {
   "display_name": "Python 3",
   "language": "python",
   "name": "python3"
  },
  "language_info": {
   "codemirror_mode": {
    "name": "ipython",
    "version": 3
   },
   "file_extension": ".py",
   "mimetype": "text/x-python",
   "name": "python",
   "nbconvert_exporter": "python",
   "pygments_lexer": "ipython3",
   "version": "3.8.8"
  }
 },
 "nbformat": 4,
 "nbformat_minor": 5
}
