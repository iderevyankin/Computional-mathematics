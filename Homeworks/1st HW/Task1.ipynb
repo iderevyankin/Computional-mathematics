{
 "cells": [
  {
   "cell_type": "markdown",
   "id": "61e7e2b3",
   "metadata": {},
   "source": [
    "## Практическая задача №1 \n",
    "#### Выполнил студент группы Б03-903\n",
    "#### Деревянкин Иван"
   ]
  },
  {
   "cell_type": "markdown",
   "id": "24533e5d",
   "metadata": {},
   "source": [
    "###### Найти все корни системы уравнений:\n",
    "\n",
    "\\begin{equation*}\n",
    " \\begin{cases}\n",
    "   x^2+y^2=1, \n",
    "   \\\\\n",
    "   y=tan(x)\n",
    " \\end{cases}\n",
    "\\end{equation*}\n",
    "\n",
    "-----------------------------------------------------------------------------"
   ]
  },
  {
   "cell_type": "markdown",
   "id": "954fb335",
   "metadata": {},
   "source": [
    "Графически локализуем корни \\\n",
    "Получаем: \n",
    "\n",
    "<center>$x_1$ = $[0.6 , 0.7]$ </center>\n",
    "<center>$y_1$ = $[0.7, 0.8]$</center>\n"
   ]
  },
  {
   "cell_type": "markdown",
   "id": "5076e30e",
   "metadata": {},
   "source": [
    "Искать будем только один корень в этом интервале, так как в виду специфики\n",
    "уравнений, если ($x^*$, $y^*$) является корнем, то ($-x^*$,$-y^*$) также является корнем."
   ]
  },
  {
   "cell_type": "markdown",
   "id": "709452e1",
   "metadata": {},
   "source": [
    "Выберем следующее выражение:\n",
    "\n",
    "<center>$x$ = $arctan(y)$ = $p_1$</center>\n",
    "<center>$y$ = $\\sqrt{1-x^2}$ = $p_2$ </center>\n",
    "\n",
    "Так как частная производная $p_1$ по $х$ равна нулю, а по $у$ равна $\\frac{1}{1+y^2}$, то\n",
    "норма матрицы будет меньше единицы, а значит метод простой итерации будет сходиться."
   ]
  },
  {
   "cell_type": "markdown",
   "id": "e0121590",
   "metadata": {},
   "source": [
    "Оценка числа необходимых итераций, $k \\geqslant log_q(1-q) \\cdot \\varepsilon$ \\\n",
    "При $q$ = $\\frac{2}{3}$ и $\\varepsilon$ = $10^{-6}$"
   ]
  },
  {
   "cell_type": "code",
   "execution_count": 45,
   "id": "37561fce",
   "metadata": {},
   "outputs": [
    {
     "name": "stdout",
     "output_type": "stream",
     "text": [
      "Проверка полученного значения\n",
      "-3.7864731639025706e-07\n",
      "-2.989376028939006e-06\n",
      "~~~~~~~~~~~~~~~~~~\n",
      "Ответ, [0.6498900730849113, 0.7600279693921614] [-0.6498900730849113, -0.7600279693921614]\n"
     ]
    }
   ],
   "source": [
    "import numpy as np\n",
    "\n",
    "def get_next_point(x,y):\n",
    "    return np.arctan(y), np.sqrt(1-x**2)\n",
    "\n",
    "x= 0.6\n",
    "y=0.7\n",
    "xes =[]\n",
    "yes = []\n",
    "xes.append(x)\n",
    "yes.append(y)\n",
    "for _ in range(35):\n",
    "    x,y = get_next_point(x,y)\n",
    "    xes.append(x)\n",
    "    yes.append(y)\n",
    "\n",
    "# plt.scatter(xes,yes)\n",
    "# plt.show()\n",
    "print(\"Проверка полученного значения\")\n",
    "print(x**2+y**2-1)\n",
    "print(y - np.tan(x))\n",
    "print(\"~~~~~~~~~~~~~~~~~~\")\n",
    "\n",
    "print(\"Ответ,\",[x,y], [-x,-y])"
   ]
  },
  {
   "cell_type": "code",
   "execution_count": null,
   "id": "82fe13c4",
   "metadata": {},
   "outputs": [],
   "source": []
  }
 ],
 "metadata": {
  "kernelspec": {
   "display_name": "Python 3",
   "language": "python",
   "name": "python3"
  },
  "language_info": {
   "codemirror_mode": {
    "name": "ipython",
    "version": 3
   },
   "file_extension": ".py",
   "mimetype": "text/x-python",
   "name": "python",
   "nbconvert_exporter": "python",
   "pygments_lexer": "ipython3",
   "version": "3.8.8"
  }
 },
 "nbformat": 4,
 "nbformat_minor": 5
}
