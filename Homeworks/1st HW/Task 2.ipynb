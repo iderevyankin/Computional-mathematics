{
 "cells": [
  {
   "cell_type": "markdown",
   "id": "626aec92",
   "metadata": {},
   "source": [
    "## Практическая задача №2\n",
    "#### Выполнил студент группы Б03-903\n",
    "#### Деревянкин Иван"
   ]
  },
  {
   "cell_type": "markdown",
   "id": "65d5539e",
   "metadata": {},
   "source": [
    "###### Вычислить интеграл:\n",
    "\n",
    "<h4><center> $\\int\\limits_0^3 sin(100x) \\cdot e^{-x^2} \\cdot cos(2x) dx$ </center></h4>\n",
    "\n",
    "---------------------------"
   ]
  },
  {
   "cell_type": "code",
   "execution_count": 26,
   "id": "c7d7be8c",
   "metadata": {},
   "outputs": [],
   "source": [
    "import numpy as np\n",
    "\n",
    "\n",
    "def f(x):\n",
    "    return np.sin(100 * x) * np.exp(-x ** 2) * np.cos(2 * x)"
   ]
  },
  {
   "cell_type": "code",
   "execution_count": 36,
   "id": "2cdb2d08",
   "metadata": {},
   "outputs": [],
   "source": [
    "def runge(I_1, I_2, p):\n",
    "    return (I_1 - I_2) / (2 ** p - 1)"
   ]
  },
  {
   "cell_type": "markdown",
   "id": "b58f8a7d",
   "metadata": {},
   "source": [
    "Ососбых точек нет(как и информации о требуемой точности)"
   ]
  },
  {
   "cell_type": "code",
   "execution_count": 46,
   "id": "fb975d70",
   "metadata": {},
   "outputs": [],
   "source": [
    "n_1 = 20000\n",
    "xes_1 = np.linspace(0, 3, n_1)\n",
    "n_2 = 40000\n",
    "xes_2 = np.linspace(0, 3, n_2)"
   ]
  },
  {
   "cell_type": "markdown",
   "id": "88e87c6f",
   "metadata": {},
   "source": [
    "Метод левого прямоугольника:"
   ]
  },
  {
   "cell_type": "code",
   "execution_count": 59,
   "id": "59411200",
   "metadata": {},
   "outputs": [],
   "source": [
    "def left_side_rectangle():\n",
    "    p = 1\n",
    "    sum_1 = 0\n",
    "    for i in range(len(xes_1) - 1):\n",
    "        sum_1 += f(xes_1[i]) * (xes_1[i + 1] - xes_1[i])\n",
    "    sum_2 = 0\n",
    "    for i in range(len(xes_2) - 1):\n",
    "        sum_2 += f(xes_2[i]) * (xes_2[i + 1] - xes_2[i])\n",
    "    err = runge(sum_1, sum_2, p)\n",
    "    return sum_1 + err"
   ]
  },
  {
   "cell_type": "markdown",
   "id": "e63a2ca0",
   "metadata": {},
   "source": [
    "Метод правого прямоугольника:"
   ]
  },
  {
   "cell_type": "code",
   "execution_count": 72,
   "id": "bbddf7f9",
   "metadata": {},
   "outputs": [],
   "source": [
    "def right_side_rectangle():\n",
    "    p = 1\n",
    "    sum_1 = 0\n",
    "    for i in range(1, len(xes_1)):\n",
    "        sum_1 += f(xes_1[i]) * (xes_1[i] - xes_1[i - 1])\n",
    "    sum_2 = 0\n",
    "    for i in range(1, len(xes_2)):\n",
    "        sum_2 += f(xes_2[i]) * (xes_2[i] - xes_2[i - 1])\n",
    "    err = runge(sum_1, sum_2, p)\n",
    "    return sum_1 + err"
   ]
  },
  {
   "cell_type": "markdown",
   "id": "33cbed41",
   "metadata": {},
   "source": [
    "Метод средней точки:"
   ]
  },
  {
   "cell_type": "code",
   "execution_count": 89,
   "id": "56d02599",
   "metadata": {},
   "outputs": [],
   "source": [
    "def central_rectangle():\n",
    "    p = 2\n",
    "    sum_1 = 0\n",
    "    for i in range(len(xes_1) - 1):\n",
    "        sum_1 += f((xes_1[i] + xes_1[i + 1]) / 2) * (xes_1[i + 1] - xes_1[i])\n",
    "    sum_2 = 0\n",
    "    for i in range(len(xes_1) - 1):\n",
    "        sum_2 += f((xes_2[i] + xes_2[i + 1]) / 2) * (xes_2[i + 1] - xes_2[i])\n",
    "    err = runge(sum_1, sum_2, p)\n",
    "    return sum_1 + err"
   ]
  },
  {
   "cell_type": "code",
   "execution_count": 101,
   "id": "554241f6",
   "metadata": {},
   "outputs": [],
   "source": [
    "def tracepies_method():\n",
    "    p = 2\n",
    "    sum_1 = 0\n",
    "    for i in range(len(xes_1) - 1):\n",
    "        sum_1 += ((f(xes_1[i]) + f(xes_1[i + 1])) / 2) * (xes_1[i + 1] - xes_1[i])\n",
    "    sum_2 = 0\n",
    "    for i in range(len(xes_1) - 1):\n",
    "        sum_2 += ((f(xes_2[i]) + f(xes_2[i + 1])) / 2) * (xes_2[i + 1] - xes_2[i])\n",
    "    err = runge(sum_1, sum_2, p)\n",
    "    return sum_1 + err"
   ]
  },
  {
   "cell_type": "code",
   "execution_count": 138,
   "id": "36e57d2b",
   "metadata": {},
   "outputs": [],
   "source": [
    "def method_38():\n",
    "    p = 4\n",
    "    sum_1 = 0\n",
    "    for i in range(len(xes_1) - 1):\n",
    "        sum_1 += (f(xes_1[i]) + 3 * f((2 * xes_1[i] + xes_1[i + 1]) / 3) + 3 * f((xes_1[i] + 2 * xes_1[i + 1]) / 3) + f(\n",
    "            xes_1[i + 1])) / 8 * (xes_1[i + 1] - xes_1[i])\n",
    "\n",
    "    sum_2 = 0\n",
    "    for i in range(len(xes_2) - 1):\n",
    "        sum_2 += (f(xes_2[i]) + 3 * f((2 * xes_2[i] + xes_2[i + 1]) / 3) + 3 * f((xes_2[i] + 2 * xes_2[i + 1]) / 3) + f(\n",
    "            xes_2[i + 1])) / 8 * (xes_2[i + 1] - xes_2[i])\n",
    "    err = runge(sum_1, sum_2, p)\n",
    "    # err = 0\n",
    "    return sum_1 + err"
   ]
  },
  {
   "cell_type": "code",
   "execution_count": 182,
   "id": "17f1b942",
   "metadata": {},
   "outputs": [],
   "source": [
    "def simpsons_method():\n",
    "    p = 4\n",
    "    sum_1 = 0\n",
    "    for i in range(len(xes_1) - 1):\n",
    "        sum_1 += (f(xes_1[i]) + 4 * f((xes_1[i] + xes_1[i + 1]) / 2) + f(xes_1[i + 1])) / 6 * (xes_1[i + 1] - xes_1[i])\n",
    "\n",
    "    sum_2 = 0\n",
    "    for i in range(len(xes_2) - 1):\n",
    "        sum_2 += (f(xes_2[i]) + 4 * f((xes_2[i] + xes_2[i + 1]) / 2) + f(xes_2[i + 1])) / 6 * (xes_2[i + 1] - xes_2[i])\n",
    "    err = runge(sum_1, sum_2, p)\n",
    "    # err = 0\n",
    "    return sum_1 + err"
   ]
  },
  {
   "cell_type": "code",
   "execution_count": 208,
   "id": "669c67ae",
   "metadata": {},
   "outputs": [
    {
     "name": "stdout",
     "output_type": "stream",
     "text": [
      "0.010005783028200458\n",
      "0.010005756371909192\n",
      "0.009770759115457573\n",
      "0.009770409267720544\n",
      "0.010006097860414785\n",
      "0.01000609786051878\n"
     ]
    }
   ],
   "source": [
    "print(left_side_rectangle())\n",
    "print(right_side_rectangle())\n",
    "print(central_rectangle())\n",
    "print(tracepies_method())\n",
    "print(method_38())\n",
    "print(simpsons_method())"
   ]
  }
 ],
 "metadata": {
  "kernelspec": {
   "display_name": "Python 3",
   "language": "python",
   "name": "python3"
  },
  "language_info": {
   "codemirror_mode": {
    "name": "ipython",
    "version": 3
   },
   "file_extension": ".py",
   "mimetype": "text/x-python",
   "name": "python",
   "nbconvert_exporter": "python",
   "pygments_lexer": "ipython3",
   "version": "3.8.8"
  }
 },
 "nbformat": 4,
 "nbformat_minor": 5
}
