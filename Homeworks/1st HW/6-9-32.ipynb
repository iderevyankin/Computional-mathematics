{
 "cells": [
  {
   "cell_type": "markdown",
   "id": "001217ea",
   "metadata": {},
   "source": [
    "## Задание из задачника № 6.9.32 \n",
    "#### Выполнил студент группы Б03-903\n",
    "#### Деревянкин Иван"
   ]
  },
  {
   "attachments": {},
   "cell_type": "markdown",
   "id": "3c631723",
   "metadata": {},
   "source": [
    "<img src=\"./6-9-32.png\">\n",
    "\n",
    "------------------------"
   ]
  },
  {
   "cell_type": "code",
   "execution_count": 1,
   "id": "7d193e36",
   "metadata": {},
   "outputs": [],
   "source": [
    "import numpy as np\n",
    "import matplotlib.pyplot as plt"
   ]
  },
  {
   "cell_type": "code",
   "execution_count": 2,
   "id": "5a75b421",
   "metadata": {},
   "outputs": [],
   "source": [
    "year_popul = [[1910, 92228496],\n",
    "              [1920, 106021537],\n",
    "              [1930, 123202624],\n",
    "              [1940, 132164569],\n",
    "              [1950, 151325798],\n",
    "              [1960, 179323175],\n",
    "              [1970, 203211926],\n",
    "              [1980, 226545805],\n",
    "              [1990, 248709873],\n",
    "              [2000, 281421906]]"
   ]
  },
  {
   "cell_type": "code",
   "execution_count": 3,
   "id": "61ca43f2",
   "metadata": {},
   "outputs": [],
   "source": [
    "def tridiag_matrix_alg(A, F):\n",
    "    n = A.shape[0]\n",
    "    alphas = np.zeros(shape=(n))\n",
    "    bethas = np.zeros(shape =(n))\n",
    "    alphas[1] = -A[0,1]/A[0,0]\n",
    "    bethas[1] = F[0]/A[0,0]\n",
    "    for i in range(1,n-1):\n",
    "        a,b,c,f = A[i,i-1],A[i,i],A[i,i+1],F[i]\n",
    "        alphas[i+1]=-c/(a*alphas[i]+b)\n",
    "        bethas[i+1]=(f-a*bethas[i])/(a*alphas[i]+b)\n",
    "    xes = np.zeros(shape = n)\n",
    "    xes[n-1] = (F[n-1]-A[n-1,n-2]*bethas[-1])/(A[n-1,n-1]+A[n-1,n-2]*alphas[-1])\n",
    "    for i in range(n-2,-1, -1):\n",
    "        xes[i]=alphas[i+1]*xes[i+1]+bethas[i+1]\n",
    "    return xes"
   ]
  },
  {
   "cell_type": "code",
   "execution_count": 5,
   "id": "43322325",
   "metadata": {},
   "outputs": [],
   "source": [
    "def h(i):\n",
    "    if i == 0:\n",
    "        return xes[1]-xes[0]\n",
    "    return xes[i]-xes[i-1]"
   ]
  },
  {
   "cell_type": "code",
   "execution_count": 6,
   "id": "235983e5",
   "metadata": {},
   "outputs": [
    {
     "name": "stdout",
     "output_type": "stream",
     "text": [
      "Spline coefs  [[ 9.22284960e+07 -1.89193410e+07  0.00000000e+00  0.00000000e+00]\n",
      " [ 1.06021537e+08  1.70785437e+06  4.92825405e+04  1.64275135e+03]\n",
      " [ 1.23202624e+08  1.24579195e+06 -9.54887821e+04 -4.82571075e+03]\n",
      " [ 1.32164569e+08  1.15188741e+06  8.60983278e+04  6.05290366e+03]\n",
      " [ 1.51325798e+08  2.58361060e+06  5.70739910e+04 -9.67477891e+02]\n",
      " [ 1.79323175e+08  2.66125199e+06 -4.93098519e+04 -3.54612810e+03]\n",
      " [ 2.03211926e+08  2.33721984e+06  1.69066366e+04  2.20721628e+03]\n",
      " [ 2.26545805e+08  2.15665766e+06 -3.49628544e+04 -1.72898303e+03]\n",
      " [ 2.48709873e+08  2.68553363e+06  8.78504511e+04  4.09377685e+03]\n",
      " [ 2.81421906e+08  3.56403814e+06  0.00000000e+00 -2.92834837e+03]]\n",
      "Население за 2010 314133939.0\n",
      "Точное значение населения за 2010 308745538\n",
      "ОТносительная ошибка 0.01745256315250781\n"
     ]
    },
    {
     "data": {
      "image/png": "[encoded data removed]",
      "text/plain": [
       "<Figure size 432x288 with 1 Axes>"
      ]
     },
     "metadata": {
      "needs_background": "light"
     },
     "output_type": "display_data"
    }
   ],
   "source": [
    "year_popul = np.array(year_popul)\n",
    "\n",
    "xes = year_popul[:, 0]\n",
    "yes = year_popul[:, 1]\n",
    "\n",
    "plt.plot(xes,yes)\n",
    "n=len(xes)-1\n",
    "splines_coefs = np.zeros(shape=(n+1, 4))\n",
    "splines_coefs[:,0] = yes # задали коэфициенты a_i\n",
    "F = []\n",
    "for i in range(1,n):\n",
    "    F.append(3*( (splines_coefs[i+1,0]-splines_coefs[i,0])/h(i+1) - (splines_coefs[i,0]-splines_coefs[i-1,0])/h(i)) )\n",
    "A=np.zeros(shape = (n-1,n-1))\n",
    "# A[0,0],A[0,1] = 2*(h(1)+h(2)), h(2)\n",
    "# A[n-3,n-4],A[n-3,n-3] = h(n-4),2*(h(n-4)+h(n-3))\n",
    "for i in range(n-1):\n",
    "    if i!=0 and i!=n-2:\n",
    "        A[i,i-1],A[i,i],A[i,i+1] = h(i+1), 2*(h(i+2)+h(i+1)),h(i+2)\n",
    "    elif i==0:\n",
    "        A[0,0],A[0,1]=4*h(i),h(i)\n",
    "    elif i == n-2:\n",
    "        A[n-2,n-3],A[n-2,n-2] = h(i),4*h(i)\n",
    "splines_coefs[1:n,2] = tridiag_matrix_alg(A,F)\n",
    "splines_coefs[0,2],splines_coefs[n,2]=0,0\n",
    "for i in range(n+1):\n",
    "    splines_coefs[i,3] = (splines_coefs[i,2]-splines_coefs[i-1,2])/(3*h(i))\n",
    "    splines_coefs[i,1] = (splines_coefs[i,0]-splines_coefs[i-1,0])/h(i) +(2*splines_coefs[i,2]+splines_coefs[i-1,2]) *h(i)/3\n",
    "\n",
    "print(\"Spline coefs \",splines_coefs)\n",
    "\n",
    "coef_last = splines_coefs[n, :]\n",
    "last = 2000\n",
    "required = 2010\n",
    "real = 308745538\n",
    "population_required = coef_last[0] + coef_last[1] * (required - last) + coef_last[2] * (required - last)**2 + coef_last[3] * (required - last)**3\n",
    "print(\"Население за 2010\", population_required)\n",
    "print(\"Точное значение населения за 2010\", real)\n",
    "print(\"ОТносительная ошибка\", abs(real-population_required)/real )\n",
    "\n",
    "for i in range(1,n+1):\n",
    "    [a,b,c,d] = splines_coefs[i,:]\n",
    "    x_s = np.linspace(xes[i-1],xes[i],100)\n",
    "    y_s = a + b*(x_s-xes[i])+c*(x_s-xes[i])**2+d*(x_s-xes[i])**3\n",
    "    plt.plot(x_s,y_s)\n",
    "plt.show()"
   ]
  }
 ],
 "metadata": {
  "kernelspec": {
   "display_name": "Python 3",
   "language": "python",
   "name": "python3"
  },
  "language_info": {
   "codemirror_mode": {
    "name": "ipython",
    "version": 3
   },
   "file_extension": ".py",
   "mimetype": "text/x-python",
   "name": "python",
   "nbconvert_exporter": "python",
   "pygments_lexer": "ipython3",
   "version": "3.8.8"
  }
 },
 "nbformat": 4,
 "nbformat_minor": 5
}
